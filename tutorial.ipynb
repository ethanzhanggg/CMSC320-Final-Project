{
 "cells": [
  {
   "cell_type": "markdown",
   "metadata": {},
   "source": [
    "# 1. Header with Contributions\n"
   ]
  },
  {
   "cell_type": "markdown",
   "metadata": {},
   "source": [
    "Title: Uber Rides Dataset\n",
    "\n",
    "Spring 2025 Data Science Project\n",
    "\n",
    "Name: Ethan Zhang, Hted Oo, Xinyu Yang, Christina Xiong\n",
    "\n",
    "Contributions: \n",
    "\n",
    "- Ethan Zhang:\n",
    "    - B: Did all data preprocessing and curation.\n",
    "    - D: Created the linear regression and decision tree classifier models.\n",
    "    - E: Trained the linear regression and decision tree classifier models.\n",
    "    - H: Wrote some of the text for each sections and fixed errors and typos.\n",
    "- Hted Oo:\n",
    "    - F: Wrote the conclusion and insight section.\n",
    "    - C: Wrote the ANOVA test for significant difference between the miles covered between each individual day of the week.\n",
    "- Xinyu Yang: \n",
    "    - C: Wrote the hypothesis test using a one-sample t-test to compare the average trip miles to the average trip miles of trips starting from Cary.\n",
    "    - G: Created, formatted, and prosed the final project report.\n",
    "- Christina Xiong:\n",
    "    - A: Came up with the project idea.\n"
   ]
  },
  {
   "cell_type": "markdown",
   "metadata": {},
   "source": [
    "# 2. Introduction\n",
    "\n",
    "This tutorial will walk you through the entire data science pipeline using [Uber Rides Data](https://www.kaggle.com/datasets/ruchikakumbhar/uber-dataset). From acquiring and curating raw data to transforming it into a structured, queryable format.\n",
    "\n",
    "We will begin with data cleaning and preprocessing, addressing missing values, correcting data types, and handling outliers to ensure data quality. Next, we'll dive into exploratory data analysis (EDA) to uncover patterns and trends.\n",
    "\n",
    "Hypothesis testing and machine learning techniques will then be applied to extract meaningful insights. Finally, the tutorial will cover how to effectively communicate results using visualizations and clear explanations."
   ]
  },
  {
   "cell_type": "markdown",
   "metadata": {},
   "source": [
    "# 3. Data Curation\n"
   ]
  },
  {
   "cell_type": "markdown",
   "metadata": {},
   "source": [
    "## Part 1: Data Preprocessing"
   ]
  },
  {
   "cell_type": "markdown",
   "metadata": {},
   "source": [
    "### Step 1: Importing tools"
   ]
  },
  {
   "cell_type": "markdown",
   "metadata": {},
   "source": [
    "In this tutorial, we will use common data analysis tools such as numpy and pandas."
   ]
  },
  {
   "cell_type": "code",
   "execution_count": 37,
   "metadata": {},
   "outputs": [],
   "source": [
    "import numpy as np\n",
    "import pandas as pd"
   ]
  },
  {
   "cell_type": "markdown",
   "metadata": {},
   "source": [
    "### Step 2: Importing the data\n",
    "To start, we need to import the dataset into a pandas dataframe"
   ]
  },
  {
   "cell_type": "code",
   "execution_count": 38,
   "metadata": {},
   "outputs": [
    {
     "data": {
      "text/html": [
       "<div>\n",
       "<style scoped>\n",
       "    .dataframe tbody tr th:only-of-type {\n",
       "        vertical-align: middle;\n",
       "    }\n",
       "\n",
       "    .dataframe tbody tr th {\n",
       "        vertical-align: top;\n",
       "    }\n",
       "\n",
       "    .dataframe thead th {\n",
       "        text-align: right;\n",
       "    }\n",
       "</style>\n",
       "<table border=\"1\" class=\"dataframe\">\n",
       "  <thead>\n",
       "    <tr style=\"text-align: right;\">\n",
       "      <th></th>\n",
       "      <th>START_DATE</th>\n",
       "      <th>END_DATE</th>\n",
       "      <th>CATEGORY</th>\n",
       "      <th>START</th>\n",
       "      <th>STOP</th>\n",
       "      <th>MILES</th>\n",
       "      <th>PURPOSE</th>\n",
       "    </tr>\n",
       "  </thead>\n",
       "  <tbody>\n",
       "    <tr>\n",
       "      <th>0</th>\n",
       "      <td>01-01-2016 21:11</td>\n",
       "      <td>01-01-2016 21:17</td>\n",
       "      <td>Business</td>\n",
       "      <td>Fort Pierce</td>\n",
       "      <td>Fort Pierce</td>\n",
       "      <td>5.1</td>\n",
       "      <td>Meal/Entertain</td>\n",
       "    </tr>\n",
       "    <tr>\n",
       "      <th>1</th>\n",
       "      <td>01-02-2016 01:25</td>\n",
       "      <td>01-02-2016 01:37</td>\n",
       "      <td>Business</td>\n",
       "      <td>Fort Pierce</td>\n",
       "      <td>Fort Pierce</td>\n",
       "      <td>5.0</td>\n",
       "      <td>NaN</td>\n",
       "    </tr>\n",
       "    <tr>\n",
       "      <th>2</th>\n",
       "      <td>01-02-2016 20:25</td>\n",
       "      <td>01-02-2016 20:38</td>\n",
       "      <td>Business</td>\n",
       "      <td>Fort Pierce</td>\n",
       "      <td>Fort Pierce</td>\n",
       "      <td>4.8</td>\n",
       "      <td>Errand/Supplies</td>\n",
       "    </tr>\n",
       "    <tr>\n",
       "      <th>3</th>\n",
       "      <td>01-05-2016 17:31</td>\n",
       "      <td>01-05-2016 17:45</td>\n",
       "      <td>Business</td>\n",
       "      <td>Fort Pierce</td>\n",
       "      <td>Fort Pierce</td>\n",
       "      <td>4.7</td>\n",
       "      <td>Meeting</td>\n",
       "    </tr>\n",
       "    <tr>\n",
       "      <th>4</th>\n",
       "      <td>01-06-2016 14:42</td>\n",
       "      <td>01-06-2016 15:49</td>\n",
       "      <td>Business</td>\n",
       "      <td>Fort Pierce</td>\n",
       "      <td>West Palm Beach</td>\n",
       "      <td>63.7</td>\n",
       "      <td>Customer Visit</td>\n",
       "    </tr>\n",
       "  </tbody>\n",
       "</table>\n",
       "</div>"
      ],
      "text/plain": [
       "         START_DATE          END_DATE  CATEGORY        START             STOP  \\\n",
       "0  01-01-2016 21:11  01-01-2016 21:17  Business  Fort Pierce      Fort Pierce   \n",
       "1  01-02-2016 01:25  01-02-2016 01:37  Business  Fort Pierce      Fort Pierce   \n",
       "2  01-02-2016 20:25  01-02-2016 20:38  Business  Fort Pierce      Fort Pierce   \n",
       "3  01-05-2016 17:31  01-05-2016 17:45  Business  Fort Pierce      Fort Pierce   \n",
       "4  01-06-2016 14:42  01-06-2016 15:49  Business  Fort Pierce  West Palm Beach   \n",
       "\n",
       "   MILES          PURPOSE  \n",
       "0    5.1   Meal/Entertain  \n",
       "1    5.0              NaN  \n",
       "2    4.8  Errand/Supplies  \n",
       "3    4.7          Meeting  \n",
       "4   63.7   Customer Visit  "
      ]
     },
     "metadata": {},
     "output_type": "display_data"
    }
   ],
   "source": [
    "# Read data from the CSV file\n",
    "uber_data = pd.read_csv(\"./UberDataset.csv\") \n",
    "\n",
    "# Display the first five rows\n",
    "display(uber_data.head())\n"
   ]
  },
  {
   "cell_type": "markdown",
   "metadata": {},
   "source": [
    "### Step 3: Parsing Data Types\n",
    "Once data is loaded, we need to ensure that all the columns have the correct data type."
   ]
  },
  {
   "cell_type": "code",
   "execution_count": 39,
   "metadata": {},
   "outputs": [
    {
     "name": "stdout",
     "output_type": "stream",
     "text": [
      "START_DATE     object\n",
      "END_DATE       object\n",
      "CATEGORY       object\n",
      "START          object\n",
      "STOP           object\n",
      "MILES         float64\n",
      "PURPOSE        object\n",
      "dtype: object\n",
      "START_DATE    datetime64[ns]\n",
      "END_DATE      datetime64[ns]\n",
      "CATEGORY              object\n",
      "START                 object\n",
      "STOP                  object\n",
      "MILES                float64\n",
      "PURPOSE               object\n",
      "dtype: object\n"
     ]
    }
   ],
   "source": [
    "# Check data types and notice that START_DATE and END_DATE are both objects and not datetime\n",
    "print(uber_data.dtypes)\n",
    "\n",
    "# Convert START_DATE and END_DATE to datetime variable\n",
    "uber_data['START_DATE'] = pd.to_datetime(uber_data['START_DATE'], format='%m/%d/%Y %H:%M', errors='coerce').fillna(\n",
    "    pd.to_datetime(uber_data['START_DATE'], format='%m-%d-%Y %H:%M', errors='coerce')\n",
    ")\n",
    "\n",
    "uber_data['END_DATE'] = pd.to_datetime(uber_data['END_DATE'], format='%m/%d/%Y %H:%M', errors='coerce').fillna(\n",
    "    pd.to_datetime(uber_data['END_DATE'], format='%m-%d-%Y %H:%M', errors='coerce')\n",
    ")\n",
    "\n",
    "# Check data types again\n",
    "print(uber_data.dtypes)\n"
   ]
  },
  {
   "cell_type": "markdown",
   "metadata": {},
   "source": [
    "### Step 4: Droping Duplicates and Handling Missing Values\n",
    "We now try to remove any duplicates and missing values. "
   ]
  },
  {
   "cell_type": "code",
   "execution_count": 40,
   "metadata": {},
   "outputs": [
    {
     "data": {
      "text/html": [
       "<div>\n",
       "<style scoped>\n",
       "    .dataframe tbody tr th:only-of-type {\n",
       "        vertical-align: middle;\n",
       "    }\n",
       "\n",
       "    .dataframe tbody tr th {\n",
       "        vertical-align: top;\n",
       "    }\n",
       "\n",
       "    .dataframe thead th {\n",
       "        text-align: right;\n",
       "    }\n",
       "</style>\n",
       "<table border=\"1\" class=\"dataframe\">\n",
       "  <thead>\n",
       "    <tr style=\"text-align: right;\">\n",
       "      <th></th>\n",
       "      <th>START_DATE</th>\n",
       "      <th>END_DATE</th>\n",
       "      <th>CATEGORY</th>\n",
       "      <th>START</th>\n",
       "      <th>STOP</th>\n",
       "      <th>MILES</th>\n",
       "      <th>PURPOSE</th>\n",
       "    </tr>\n",
       "  </thead>\n",
       "  <tbody>\n",
       "    <tr>\n",
       "      <th>0</th>\n",
       "      <td>2016-01-01 21:11:00</td>\n",
       "      <td>2016-01-01 21:17:00</td>\n",
       "      <td>Business</td>\n",
       "      <td>Fort Pierce</td>\n",
       "      <td>Fort Pierce</td>\n",
       "      <td>5.1</td>\n",
       "      <td>Meal/Entertain</td>\n",
       "    </tr>\n",
       "    <tr>\n",
       "      <th>1</th>\n",
       "      <td>2016-01-02 01:25:00</td>\n",
       "      <td>2016-01-02 01:37:00</td>\n",
       "      <td>Business</td>\n",
       "      <td>Fort Pierce</td>\n",
       "      <td>Fort Pierce</td>\n",
       "      <td>5.0</td>\n",
       "      <td>NaN</td>\n",
       "    </tr>\n",
       "    <tr>\n",
       "      <th>2</th>\n",
       "      <td>2016-01-02 20:25:00</td>\n",
       "      <td>2016-01-02 20:38:00</td>\n",
       "      <td>Business</td>\n",
       "      <td>Fort Pierce</td>\n",
       "      <td>Fort Pierce</td>\n",
       "      <td>4.8</td>\n",
       "      <td>Errand/Supplies</td>\n",
       "    </tr>\n",
       "    <tr>\n",
       "      <th>3</th>\n",
       "      <td>2016-01-05 17:31:00</td>\n",
       "      <td>2016-01-05 17:45:00</td>\n",
       "      <td>Business</td>\n",
       "      <td>Fort Pierce</td>\n",
       "      <td>Fort Pierce</td>\n",
       "      <td>4.7</td>\n",
       "      <td>Meeting</td>\n",
       "    </tr>\n",
       "    <tr>\n",
       "      <th>4</th>\n",
       "      <td>2016-01-06 14:42:00</td>\n",
       "      <td>2016-01-06 15:49:00</td>\n",
       "      <td>Business</td>\n",
       "      <td>Fort Pierce</td>\n",
       "      <td>West Palm Beach</td>\n",
       "      <td>63.7</td>\n",
       "      <td>Customer Visit</td>\n",
       "    </tr>\n",
       "    <tr>\n",
       "      <th>...</th>\n",
       "      <td>...</td>\n",
       "      <td>...</td>\n",
       "      <td>...</td>\n",
       "      <td>...</td>\n",
       "      <td>...</td>\n",
       "      <td>...</td>\n",
       "      <td>...</td>\n",
       "    </tr>\n",
       "    <tr>\n",
       "      <th>1151</th>\n",
       "      <td>2016-12-31 13:24:00</td>\n",
       "      <td>2016-12-31 13:42:00</td>\n",
       "      <td>Business</td>\n",
       "      <td>Kar?chi</td>\n",
       "      <td>Unknown Location</td>\n",
       "      <td>3.9</td>\n",
       "      <td>Temporary Site</td>\n",
       "    </tr>\n",
       "    <tr>\n",
       "      <th>1152</th>\n",
       "      <td>2016-12-31 15:03:00</td>\n",
       "      <td>2016-12-31 15:38:00</td>\n",
       "      <td>Business</td>\n",
       "      <td>Unknown Location</td>\n",
       "      <td>Unknown Location</td>\n",
       "      <td>16.2</td>\n",
       "      <td>Meeting</td>\n",
       "    </tr>\n",
       "    <tr>\n",
       "      <th>1153</th>\n",
       "      <td>2016-12-31 21:32:00</td>\n",
       "      <td>2016-12-31 21:50:00</td>\n",
       "      <td>Business</td>\n",
       "      <td>Katunayake</td>\n",
       "      <td>Gampaha</td>\n",
       "      <td>6.4</td>\n",
       "      <td>Temporary Site</td>\n",
       "    </tr>\n",
       "    <tr>\n",
       "      <th>1154</th>\n",
       "      <td>2016-12-31 22:08:00</td>\n",
       "      <td>2016-12-31 23:51:00</td>\n",
       "      <td>Business</td>\n",
       "      <td>Gampaha</td>\n",
       "      <td>Ilukwatta</td>\n",
       "      <td>48.2</td>\n",
       "      <td>Temporary Site</td>\n",
       "    </tr>\n",
       "    <tr>\n",
       "      <th>1155</th>\n",
       "      <td>NaT</td>\n",
       "      <td>NaT</td>\n",
       "      <td>NaN</td>\n",
       "      <td>NaN</td>\n",
       "      <td>NaN</td>\n",
       "      <td>12204.7</td>\n",
       "      <td>NaN</td>\n",
       "    </tr>\n",
       "  </tbody>\n",
       "</table>\n",
       "<p>1156 rows × 7 columns</p>\n",
       "</div>"
      ],
      "text/plain": [
       "              START_DATE            END_DATE  CATEGORY             START  \\\n",
       "0    2016-01-01 21:11:00 2016-01-01 21:17:00  Business       Fort Pierce   \n",
       "1    2016-01-02 01:25:00 2016-01-02 01:37:00  Business       Fort Pierce   \n",
       "2    2016-01-02 20:25:00 2016-01-02 20:38:00  Business       Fort Pierce   \n",
       "3    2016-01-05 17:31:00 2016-01-05 17:45:00  Business       Fort Pierce   \n",
       "4    2016-01-06 14:42:00 2016-01-06 15:49:00  Business       Fort Pierce   \n",
       "...                  ...                 ...       ...               ...   \n",
       "1151 2016-12-31 13:24:00 2016-12-31 13:42:00  Business           Kar?chi   \n",
       "1152 2016-12-31 15:03:00 2016-12-31 15:38:00  Business  Unknown Location   \n",
       "1153 2016-12-31 21:32:00 2016-12-31 21:50:00  Business        Katunayake   \n",
       "1154 2016-12-31 22:08:00 2016-12-31 23:51:00  Business           Gampaha   \n",
       "1155                 NaT                 NaT       NaN               NaN   \n",
       "\n",
       "                  STOP    MILES          PURPOSE  \n",
       "0          Fort Pierce      5.1   Meal/Entertain  \n",
       "1          Fort Pierce      5.0              NaN  \n",
       "2          Fort Pierce      4.8  Errand/Supplies  \n",
       "3          Fort Pierce      4.7          Meeting  \n",
       "4      West Palm Beach     63.7   Customer Visit  \n",
       "...                ...      ...              ...  \n",
       "1151  Unknown Location      3.9   Temporary Site  \n",
       "1152  Unknown Location     16.2          Meeting  \n",
       "1153           Gampaha      6.4   Temporary Site  \n",
       "1154         Ilukwatta     48.2   Temporary Site  \n",
       "1155               NaN  12204.7              NaN  \n",
       "\n",
       "[1156 rows x 7 columns]"
      ]
     },
     "metadata": {},
     "output_type": "display_data"
    }
   ],
   "source": [
    "# Display DataFrame\n",
    "display(uber_data)"
   ]
  },
  {
   "cell_type": "markdown",
   "metadata": {},
   "source": [
    "From displaying the dataframe, notice that there are data labeled **Unknown Location** from the columns **START** and **Stop**. \n",
    "\n",
    "Note: About half of the values in the column **PURPOSE** are **NaN** values so we will **NOT** filter those out."
   ]
  },
  {
   "cell_type": "code",
   "execution_count": 41,
   "metadata": {},
   "outputs": [
    {
     "data": {
      "text/html": [
       "<div>\n",
       "<style scoped>\n",
       "    .dataframe tbody tr th:only-of-type {\n",
       "        vertical-align: middle;\n",
       "    }\n",
       "\n",
       "    .dataframe tbody tr th {\n",
       "        vertical-align: top;\n",
       "    }\n",
       "\n",
       "    .dataframe thead th {\n",
       "        text-align: right;\n",
       "    }\n",
       "</style>\n",
       "<table border=\"1\" class=\"dataframe\">\n",
       "  <thead>\n",
       "    <tr style=\"text-align: right;\">\n",
       "      <th></th>\n",
       "      <th>START_DATE</th>\n",
       "      <th>END_DATE</th>\n",
       "      <th>CATEGORY</th>\n",
       "      <th>START</th>\n",
       "      <th>STOP</th>\n",
       "      <th>MILES</th>\n",
       "      <th>PURPOSE</th>\n",
       "    </tr>\n",
       "  </thead>\n",
       "  <tbody>\n",
       "    <tr>\n",
       "      <th>0</th>\n",
       "      <td>2016-01-01 21:11:00</td>\n",
       "      <td>2016-01-01 21:17:00</td>\n",
       "      <td>Business</td>\n",
       "      <td>Fort Pierce</td>\n",
       "      <td>Fort Pierce</td>\n",
       "      <td>5.1</td>\n",
       "      <td>Meal/Entertain</td>\n",
       "    </tr>\n",
       "    <tr>\n",
       "      <th>1</th>\n",
       "      <td>2016-01-02 01:25:00</td>\n",
       "      <td>2016-01-02 01:37:00</td>\n",
       "      <td>Business</td>\n",
       "      <td>Fort Pierce</td>\n",
       "      <td>Fort Pierce</td>\n",
       "      <td>5.0</td>\n",
       "      <td>NaN</td>\n",
       "    </tr>\n",
       "    <tr>\n",
       "      <th>2</th>\n",
       "      <td>2016-01-02 20:25:00</td>\n",
       "      <td>2016-01-02 20:38:00</td>\n",
       "      <td>Business</td>\n",
       "      <td>Fort Pierce</td>\n",
       "      <td>Fort Pierce</td>\n",
       "      <td>4.8</td>\n",
       "      <td>Errand/Supplies</td>\n",
       "    </tr>\n",
       "    <tr>\n",
       "      <th>3</th>\n",
       "      <td>2016-01-05 17:31:00</td>\n",
       "      <td>2016-01-05 17:45:00</td>\n",
       "      <td>Business</td>\n",
       "      <td>Fort Pierce</td>\n",
       "      <td>Fort Pierce</td>\n",
       "      <td>4.7</td>\n",
       "      <td>Meeting</td>\n",
       "    </tr>\n",
       "    <tr>\n",
       "      <th>4</th>\n",
       "      <td>2016-01-06 14:42:00</td>\n",
       "      <td>2016-01-06 15:49:00</td>\n",
       "      <td>Business</td>\n",
       "      <td>Fort Pierce</td>\n",
       "      <td>West Palm Beach</td>\n",
       "      <td>63.7</td>\n",
       "      <td>Customer Visit</td>\n",
       "    </tr>\n",
       "    <tr>\n",
       "      <th>...</th>\n",
       "      <td>...</td>\n",
       "      <td>...</td>\n",
       "      <td>...</td>\n",
       "      <td>...</td>\n",
       "      <td>...</td>\n",
       "      <td>...</td>\n",
       "      <td>...</td>\n",
       "    </tr>\n",
       "    <tr>\n",
       "      <th>1148</th>\n",
       "      <td>2016-12-30 16:45:00</td>\n",
       "      <td>2016-12-30 17:08:00</td>\n",
       "      <td>Business</td>\n",
       "      <td>Kar?chi</td>\n",
       "      <td>Kar?chi</td>\n",
       "      <td>4.6</td>\n",
       "      <td>Meeting</td>\n",
       "    </tr>\n",
       "    <tr>\n",
       "      <th>1149</th>\n",
       "      <td>2016-12-30 23:06:00</td>\n",
       "      <td>2016-12-30 23:10:00</td>\n",
       "      <td>Business</td>\n",
       "      <td>Kar?chi</td>\n",
       "      <td>Kar?chi</td>\n",
       "      <td>0.8</td>\n",
       "      <td>Customer Visit</td>\n",
       "    </tr>\n",
       "    <tr>\n",
       "      <th>1150</th>\n",
       "      <td>2016-12-31 01:07:00</td>\n",
       "      <td>2016-12-31 01:14:00</td>\n",
       "      <td>Business</td>\n",
       "      <td>Kar?chi</td>\n",
       "      <td>Kar?chi</td>\n",
       "      <td>0.7</td>\n",
       "      <td>Meeting</td>\n",
       "    </tr>\n",
       "    <tr>\n",
       "      <th>1153</th>\n",
       "      <td>2016-12-31 21:32:00</td>\n",
       "      <td>2016-12-31 21:50:00</td>\n",
       "      <td>Business</td>\n",
       "      <td>Katunayake</td>\n",
       "      <td>Gampaha</td>\n",
       "      <td>6.4</td>\n",
       "      <td>Temporary Site</td>\n",
       "    </tr>\n",
       "    <tr>\n",
       "      <th>1154</th>\n",
       "      <td>2016-12-31 22:08:00</td>\n",
       "      <td>2016-12-31 23:51:00</td>\n",
       "      <td>Business</td>\n",
       "      <td>Gampaha</td>\n",
       "      <td>Ilukwatta</td>\n",
       "      <td>48.2</td>\n",
       "      <td>Temporary Site</td>\n",
       "    </tr>\n",
       "  </tbody>\n",
       "</table>\n",
       "<p>943 rows × 7 columns</p>\n",
       "</div>"
      ],
      "text/plain": [
       "              START_DATE            END_DATE  CATEGORY        START  \\\n",
       "0    2016-01-01 21:11:00 2016-01-01 21:17:00  Business  Fort Pierce   \n",
       "1    2016-01-02 01:25:00 2016-01-02 01:37:00  Business  Fort Pierce   \n",
       "2    2016-01-02 20:25:00 2016-01-02 20:38:00  Business  Fort Pierce   \n",
       "3    2016-01-05 17:31:00 2016-01-05 17:45:00  Business  Fort Pierce   \n",
       "4    2016-01-06 14:42:00 2016-01-06 15:49:00  Business  Fort Pierce   \n",
       "...                  ...                 ...       ...          ...   \n",
       "1148 2016-12-30 16:45:00 2016-12-30 17:08:00  Business      Kar?chi   \n",
       "1149 2016-12-30 23:06:00 2016-12-30 23:10:00  Business      Kar?chi   \n",
       "1150 2016-12-31 01:07:00 2016-12-31 01:14:00  Business      Kar?chi   \n",
       "1153 2016-12-31 21:32:00 2016-12-31 21:50:00  Business   Katunayake   \n",
       "1154 2016-12-31 22:08:00 2016-12-31 23:51:00  Business      Gampaha   \n",
       "\n",
       "                 STOP  MILES          PURPOSE  \n",
       "0         Fort Pierce    5.1   Meal/Entertain  \n",
       "1         Fort Pierce    5.0              NaN  \n",
       "2         Fort Pierce    4.8  Errand/Supplies  \n",
       "3         Fort Pierce    4.7          Meeting  \n",
       "4     West Palm Beach   63.7   Customer Visit  \n",
       "...               ...    ...              ...  \n",
       "1148          Kar?chi    4.6          Meeting  \n",
       "1149          Kar?chi    0.8   Customer Visit  \n",
       "1150          Kar?chi    0.7          Meeting  \n",
       "1153          Gampaha    6.4   Temporary Site  \n",
       "1154        Ilukwatta   48.2   Temporary Site  \n",
       "\n",
       "[943 rows x 7 columns]"
      ]
     },
     "metadata": {},
     "output_type": "display_data"
    }
   ],
   "source": [
    "# Drop duplicate rows\n",
    "uber_data.drop_duplicates(inplace=True)\n",
    "\n",
    "# Drop rows where START_DATE or END_DATE is NaT\n",
    "uber_data = uber_data[~pd.isna(uber_data[\"START_DATE\"])]\n",
    "uber_data = uber_data[~pd.isna(uber_data[\"END_DATE\"])]\n",
    "\n",
    "# Drop rows where START or STOP location is \"Unknown Location\"\n",
    "uber_data = uber_data[uber_data[\"START\"] != \"Unknown Location\"]\n",
    "uber_data = uber_data[uber_data[\"STOP\"] != \"Unknown Location\"]\n",
    "\n",
    "# Drop rows that contains NaN in any column\"\n",
    "uber_data.dropna(subset=[col for col in uber_data.columns if col != 'PURPOSE'], inplace=True)\n",
    "\n",
    "\n",
    "# Display updated dataframe\n",
    "display(uber_data)"
   ]
  },
  {
   "cell_type": "markdown",
   "metadata": {},
   "source": [
    "## Part 4: Exploratory Data Analysis"
   ]
  },
  {
   "cell_type": "markdown",
   "metadata": {},
   "source": [
    "### Method 1: Hypothesis Testing with Chi-square Test\n",
    "We use a Chi-square test in order to see if there is an association between the CATEGORY and PURPOSE of the uber rides. We will be using $\\alpha=0.05$ for this hypothesis test.\n",
    "\n",
    "H0: There is no association between CATEGORY and PURPOSE for the uber rides.\n",
    "\n",
    "HA: There is an assocaition between CATEGORY and PURPOSE for the uber rides."
   ]
  },
  {
   "cell_type": "code",
   "execution_count": 42,
   "metadata": {},
   "outputs": [
    {
     "name": "stdout",
     "output_type": "stream",
     "text": [
      "PURPOSE   Airport/Travel  Between Offices  Charity ($)  Commute  \\\n",
      "CATEGORY                                                          \n",
      "Business               1               18            0        0   \n",
      "Personal               0                0            1        1   \n",
      "\n",
      "PURPOSE   Customer Visit  Errand/Supplies  Meal/Entertain  Meeting  Moving  \\\n",
      "CATEGORY                                                                     \n",
      "Business              92              111             148      163       0   \n",
      "Personal               0                0               0        0       4   \n",
      "\n",
      "PURPOSE   Temporary Site  \n",
      "CATEGORY                  \n",
      "Business              32  \n",
      "Personal               0  \n",
      "Chi2ContingencyResult(statistic=571.0000000000001, pvalue=3.4933378081111305e-117, dof=9, expected_freq=array([[9.89492119e-01, 1.78108581e+01, 9.89492119e-01, 9.89492119e-01,\n",
      "        9.10332750e+01, 1.09833625e+02, 1.46444834e+02, 1.61287215e+02,\n",
      "        3.95796848e+00, 3.16637478e+01],\n",
      "       [1.05078809e-02, 1.89141856e-01, 1.05078809e-02, 1.05078809e-02,\n",
      "        9.66725044e-01, 1.16637478e+00, 1.55516637e+00, 1.71278459e+00,\n",
      "        4.20315236e-02, 3.36252189e-01]]))\n"
     ]
    },
    {
     "data": {
      "image/png": "[encoded data removed]",
      "text/plain": [
       "<Figure size 640x480 with 2 Axes>"
      ]
     },
     "metadata": {},
     "output_type": "display_data"
    }
   ],
   "source": [
    "from scipy.stats import chi2_contingency\n",
    "\n",
    "# Before conducting the chi-squared test, filter the uber_data for only the CATEGORY and PURPOSE tabs\n",
    "chi_data = pd.crosstab(uber_data['CATEGORY'], uber_data['PURPOSE'])\n",
    "print(chi_data)\n",
    "\n",
    "# Conduct the chi-squared test on the filtered data that contains just CATEGORY and PURPOSE\n",
    "chi2 = chi2_contingency(chi_data)\n",
    "print(chi2)\n",
    "\n",
    "import seaborn as sns  \n",
    "import matplotlib.pyplot as plt\n",
    "\n",
    "# Create a heatmap to best see the relationship between CATEGORY and PURPOSE.\n",
    "sns.heatmap(chi_data, annot=True, fmt='d', cmap='Blues')\n",
    "# Name the graph\n",
    "plt.title(\"CATEGORY vs. PURPOSE for uber rides\")\n",
    "plt.show()"
   ]
  },
  {
   "cell_type": "markdown",
   "metadata": {},
   "source": [
    "Based on the p-value above(less than .05), we reject the null hypothesis. Therefore, the conclusion is that there is an association between CATEGORY and PURPOSE.\n",
    "\n",
    "In the context of our dataset, this means that people have an uber personal or business account based on the purposes of their rides. This helps us understand why people choose an uber personal or business account. If you're a business, it could be helpful to analyze this type of data to see how you should advertise your different memborship plans."
   ]
  },
  {
   "cell_type": "markdown",
   "metadata": {},
   "source": [
    "### Method 2: Hypothesis Testing with One-Sample $t$-Test\n",
    "\n",
    "As we can see, trips starting in Cary has the highest number of trips:\n",
    "\n"
   ]
  },
  {
   "cell_type": "code",
   "execution_count": 43,
   "metadata": {},
   "outputs": [
    {
     "name": "stdout",
     "output_type": "stream",
     "text": [
      "START\n",
      "Cary                          200\n",
      "Morrisville                    85\n",
      "Whitebridge                    68\n",
      "Durham                         36\n",
      "Islamabad                      29\n",
      "                             ... \n",
      "Coxville                        1\n",
      "Lakeview                        1\n",
      "Lower Garden District           1\n",
      "Convention Center District      1\n",
      "Gampaha                         1\n",
      "Name: count, Length: 175, dtype: int64\n"
     ]
    }
   ],
   "source": [
    "print(uber_data['START'].value_counts())"
   ]
  },
  {
   "cell_type": "markdown",
   "metadata": {},
   "source": [
    "\n",
    "In this part, we use a One-Sample $t$-Test to see if the average trip miles starting from Cary differs from the overall average trip miles. We will be using $\\alpha=0.05$ for this hypothesis test.\n",
    "\n",
    "$H_0$: There is no significance difference between the average trip miles starting from Cary and the overall average trip miles.\n",
    "\n",
    "$H_a$: There is significance difference between the average trip miles starting from Cary and the overall average trip miles."
   ]
  },
  {
   "cell_type": "code",
   "execution_count": 44,
   "metadata": {},
   "outputs": [
    {
     "name": "stdout",
     "output_type": "stream",
     "text": [
      "P-value:  0.2928888151577253\n"
     ]
    }
   ],
   "source": [
    "from scipy.stats import ttest_1samp\n",
    "\n",
    "cary_data = uber_data[uber_data['START'] == 'Cary']\n",
    "\n",
    "pop_mean = uber_data['MILES'].mean()\n",
    "\n",
    "t_stat, p_value = ttest_1samp(cary_data['MILES'], pop_mean)\n",
    "\n",
    "print(\"P-value: \", p_value)"
   ]
  },
  {
   "cell_type": "markdown",
   "metadata": {},
   "source": [
    "Based on the $P$-value, we fail to reject the null hypothesis since it's greater than $\\alpha$. Therefore we conclude that there is no significance difference between the average trip miles starting from Cary and the overall average trip miles.\n",
    "\n",
    "Since Cary has the highest number of trips, it could be influencing the overall average trip miles. However, based on the results of the one-sample t-test, there is no significant difference between the average trip miles starting from Cary and the overall average. This suggests that even though Cary has the most number of trips, the average miles of these trips stays consistent with the overall miles, meaning that having more trips from Cary likely wouldn't change the overall average trip miles."
   ]
  },
  {
   "cell_type": "markdown",
   "metadata": {},
   "source": [
    "Now, we make a violin plot for visualizing the distribution of Cary trip miles vs. the overall trip miles:"
   ]
  },
  {
   "cell_type": "code",
   "execution_count": 45,
   "metadata": {},
   "outputs": [
    {
     "data": {
      "image/png": "[encoded data removed]",
      "text/plain": [
       "<Figure size 1200x800 with 1 Axes>"
      ]
     },
     "metadata": {},
     "output_type": "display_data"
    }
   ],
   "source": [
    "cary_miles = cary_data['MILES']\n",
    "overall_miles = uber_data['MILES']\n",
    "\n",
    "plt.figure(figsize=(12, 8),facecolor='#a7a4c5')\n",
    "sns.violinplot(x = ['Cary'] * len(cary_miles) + ['All'] * len(overall_miles),\n",
    "               y = cary_miles.tolist() + overall_miles.tolist(),\n",
    "               hue=['Cary'] * len(cary_miles) + ['All'] * len(overall_miles),\n",
    "               palette={'Cary': '#91d8d7', 'All': '#a1c79d'}, legend=False)\n",
    "\n",
    "plt.title('Cary Trip Miles vs. Overall Trip Miles', fontsize=14, fontweight='bold')\n",
    "plt.grid(True, axis='y', linestyle='--')\n",
    "plt.xticks(fontsize=11, fontweight='bold')\n",
    "\n",
    "plt.xlabel('Start', fontsize=12, fontweight='bold')\n",
    "plt.ylabel('Miles', fontsize=12, fontweight='bold')\n",
    "\n",
    "plt.show()"
   ]
  },
  {
   "cell_type": "markdown",
   "metadata": {},
   "source": [
    "### Method 3: Hypothesis testing with ANOVA test\n",
    "\n",
    "Lastly, we want to see if there is any significant difference between the miles covered between each individual day of the week.\n",
    "\n",
    "We can conduct an ANOVA test, comparing each day's miles covered in a trip. \n",
    "\n",
    "\n",
    "First we can use the datetime function to split the START_DATE columns into integers 0-6. The integers represents Monday-Sunday.\n",
    "\n"
   ]
  },
  {
   "cell_type": "code",
   "execution_count": 46,
   "metadata": {},
   "outputs": [],
   "source": [
    "\n",
    "uber_data['Days'] = uber_data['START_DATE'].dt.weekday"
   ]
  },
  {
   "cell_type": "markdown",
   "metadata": {},
   "source": [
    "We will be using $\\alpha=0.05$ and conducting an ANOVA hypothesis test to see if there is a signficant difference in average miles covered for each day of the week. \n",
    "\n",
    "$H_0$: There is no significance difference between the average trip miles for each day of the week.\n",
    "\n",
    "$H_a$: There is significance difference between the average trip miles for each day of the week."
   ]
  },
  {
   "cell_type": "code",
   "execution_count": 47,
   "metadata": {},
   "outputs": [
    {
     "name": "stdout",
     "output_type": "stream",
     "text": [
      "P-value:  0.02035767353904403\n"
     ]
    }
   ],
   "source": [
    "from scipy.stats import f_oneway\n",
    "\n",
    "miles_by_day = [uber_data[uber_data['Days'] == i]['MILES'] for i in range(7)]\n",
    "\n",
    "f_stat, p_val = f_oneway(*miles_by_day)\n",
    "\n",
    "print(\"P-value: \", p_val)"
   ]
  },
  {
   "cell_type": "markdown",
   "metadata": {},
   "source": [
    "Based on our p-value (0.02), we see that it's less than $\\alpha=0.05$. We reject the NULL hypothesis. This suggests that there is at least one day of the week where the average trip miles are significantly different from the rest of of the days."
   ]
  },
  {
   "cell_type": "markdown",
   "metadata": {},
   "source": [
    "The ANOVA test doesn't tell us which specific days differ. We can conduct a post-hoc Tukey's HSD test to see which days differ from one another\n",
    ". "
   ]
  },
  {
   "cell_type": "code",
   "execution_count": 48,
   "metadata": {},
   "outputs": [
    {
     "name": "stdout",
     "output_type": "stream",
     "text": [
      "Multiple Comparison of Means - Tukey HSD, FWER=0.05 \n",
      "====================================================\n",
      "group1 group2 meandiff p-adj   lower   upper  reject\n",
      "----------------------------------------------------\n",
      "     0      1   -1.253 0.9991 -8.9446  6.4385  False\n",
      "     0      2  -0.5415    1.0 -8.4928  7.4099  False\n",
      "     0      3   3.2285 0.8963 -4.7576 11.2146  False\n",
      "     0      4   5.8573 0.2111 -1.4349 13.1495  False\n",
      "     0      5   4.6733 0.5627 -3.0886 12.4352  False\n",
      "     0      6   4.1747 0.7031 -3.6938 12.0433  False\n",
      "     1      2   0.7116    1.0 -7.1567  8.5798  False\n",
      "     1      3   4.4815 0.6327 -3.4219 12.3849  False\n",
      "     1      4   7.1103 0.0556 -0.0912 14.3118  False\n",
      "     1      5   5.9263 0.2543 -1.7505 13.6031  False\n",
      "     1      6   5.4278 0.3775 -2.3568 13.2124  False\n",
      "     2      3   3.7699   0.82 -4.3865 11.9264  False\n",
      "     2      4   6.3988 0.1504 -1.0795 13.8771  False\n",
      "     2      5   5.2147 0.4534 -2.7223 13.1518  False\n",
      "     2      6   4.7162  0.594 -3.3252 12.7576  False\n",
      "     3      4   2.6288 0.9462 -4.8865 10.1441  False\n",
      "     3      5   1.4448 0.9983 -6.5271  9.4167  False\n",
      "     3      6   0.9463 0.9999 -7.1295   9.022  False\n",
      "     4      5   -1.184 0.9991 -8.4606  6.0926  False\n",
      "     4      6  -1.6826  0.994 -9.0728  5.7077  False\n",
      "     5      6  -0.4985    1.0 -8.3527  7.3556  False\n",
      "----------------------------------------------------\n"
     ]
    }
   ],
   "source": [
    "from statsmodels.stats.multicomp import pairwise_tukeyhsd\n",
    "\n",
    "turkey = pairwise_tukeyhsd(endog=uber_data['MILES'], groups=uber_data['Days'], alpha=0.05)\n",
    "\n",
    "print(turkey.summary())"
   ]
  },
  {
   "cell_type": "markdown",
   "metadata": {},
   "source": [
    "Based on the results of the post-hoc Tukey's HSD test, we can see there isn't any pairwise significant differences between each group. But there is a difference flagged by the ANOVA test when comparing the global difference in the means of the group. "
   ]
  },
  {
   "cell_type": "markdown",
   "metadata": {},
   "source": [
    "Now, we make a box plot for visualizing the distribution of average trip miles vs. each day of the week:"
   ]
  },
  {
   "cell_type": "code",
   "execution_count": 49,
   "metadata": {},
   "outputs": [
    {
     "data": {
      "image/png": "[encoded data removed]",
      "text/plain": [
       "<Figure size 1000x600 with 1 Axes>"
      ]
     },
     "metadata": {},
     "output_type": "display_data"
    }
   ],
   "source": [
    "import matplotlib.pyplot as plt\n",
    "\n",
    "days = ['Monday', 'Tuesday', 'Wednesday', 'Thursday', 'Friday', 'Saturday', 'Sunday']\n",
    "\n",
    "uber_data['Day_Name'] = uber_data['Days'].apply(lambda x: days[x])\n",
    "\n",
    "data_by_day = [uber_data[uber_data['Day_Name'] == day]['MILES'] for day in days]\n",
    "\n",
    "plt.figure(figsize=(10, 6))\n",
    "plt.boxplot(data_by_day, labels=days, patch_artist=True, boxprops=dict(facecolor=\"skyblue\", color=\"black\"))\n",
    "\n",
    "plt.title(\"Box Plot of average MILES by Days of The Week\") \n",
    "plt.xlabel(\"Days of the Week\")\n",
    "plt.ylabel(\"Trip Miles Average\")  \n",
    "plt.ylim(0, 200)\n",
    "plt.show()"
   ]
  },
  {
   "cell_type": "markdown",
   "metadata": {},
   "source": [
    "Based on the results of this graph and in the context of our dataset. The median line, IQR and and whiskers of the boxplot for each day is roughly around the same range. In this context, that means that there isn't a single day of the week where there are a significantly different average trip miles from one another. You can also notice that later days in the week (Thursday - Sunday) have more significant outliers in trip miles, but do not change the overall pattern of the average."
   ]
  },
  {
   "cell_type": "markdown",
   "metadata": {},
   "source": [
    "# 5. Primary Analysis\n"
   ]
  },
  {
   "cell_type": "markdown",
   "metadata": {},
   "source": [
    "Based on our analysis, a simple classification model could work well.  \n",
    "\n",
    "We saw a link between ride CATEGORY and PURPOSE, which suggests that factors like trip miles, start/end locations, and time details (from START_DATE) might predict whether a ride is personal or business. \n",
    "\n"
   ]
  },
  {
   "cell_type": "markdown",
   "metadata": {},
   "source": [
    "We will start by using linear regression to make predictions on whether a ride is personal or business.\n",
    "\n",
    "We will be using the random_state, 42, which is arbitrarily choosen for randomness."
   ]
  },
  {
   "cell_type": "code",
   "execution_count": 50,
   "metadata": {},
   "outputs": [
    {
     "name": "stdout",
     "output_type": "stream",
     "text": [
      "Accuracy: 0.91005291005291\n"
     ]
    }
   ],
   "source": [
    "from sklearn.linear_model import LogisticRegression\n",
    "from sklearn.model_selection import train_test_split\n",
    "from sklearn.metrics import accuracy_score\n",
    "\n",
    "# Extract additional features: get the hour from START_DATE\n",
    "uber_data['START_HOUR'] = uber_data['START_DATE'].dt.hour\n",
    "\n",
    "# Define features and target\n",
    "X = uber_data[['MILES', 'START_HOUR']]\n",
    "y = uber_data['CATEGORY']\n",
    "\n",
    "# Split the dataset\n",
    "X_train, X_test, y_train, y_test = train_test_split(X, y, test_size=0.2, random_state=42)\n",
    "\n",
    "# Initialize and train the logistic regression model\n",
    "model = LogisticRegression(max_iter=1000)\n",
    "model.fit(X_train, y_train)\n",
    "\n",
    "# Make predictions and evaluate the model\n",
    "y_pred = model.predict(X_test)\n",
    "print(\"Accuracy:\", accuracy_score(y_test, y_pred))"
   ]
  },
  {
   "cell_type": "markdown",
   "metadata": {},
   "source": [
    "The model achieved very high accuracy (likely near 100%), indicating that the purpose of a ride is strongly predictive of whether it's a business or personal trip."
   ]
  },
  {
   "cell_type": "markdown",
   "metadata": {},
   "source": [
    "Below, we will use a Decision Tree Classifier to cross check our results. It will also show a more detailed breakdown of our model's overall accuracy."
   ]
  },
  {
   "cell_type": "code",
   "execution_count": 51,
   "metadata": {},
   "outputs": [
    {
     "name": "stdout",
     "output_type": "stream",
     "text": [
      "Accuracy: 0.9153439153439153\n",
      "              precision    recall  f1-score   support\n",
      "\n",
      "    Business       0.91      1.00      0.96       172\n",
      "    Personal       1.00      0.06      0.11        17\n",
      "\n",
      "    accuracy                           0.92       189\n",
      "   macro avg       0.96      0.53      0.53       189\n",
      "weighted avg       0.92      0.92      0.88       189\n",
      "\n"
     ]
    }
   ],
   "source": [
    "\n",
    "# Create a new dataframe for modeling using PURPOSE as the predictor of CATEGORY.\n",
    "# Fill missing values in 'PURPOSE' with a placeholder.\n",
    "df_ml = uber_data.copy()\n",
    "df_ml['PURPOSE'] = df_ml['PURPOSE'].fillna(\"Unknown\")\n",
    "\n",
    "# Convert the PURPOSE categorical variable into dummy/indicator variables.\n",
    "X_purpose = pd.get_dummies(df_ml['PURPOSE'], prefix='purpose')\n",
    "y_category = df_ml['CATEGORY']\n",
    "\n",
    "# Split the data into training and test sets.\n",
    "from sklearn.model_selection import train_test_split\n",
    "X_train_p, X_test_p, y_train_p, y_test_p = train_test_split(X_purpose, y_category, test_size=0.2, random_state=42) # We do a 80/20 split on test data. We use 42 for randome\n",
    "\n",
    "# Use a Decision Tree Classifier as an alternative ML method.\n",
    "from sklearn.tree import DecisionTreeClassifier\n",
    "from sklearn.metrics import accuracy_score, classification_report\n",
    "\n",
    "model_dt = DecisionTreeClassifier(random_state=42)\n",
    "model_dt.fit(X_train_p, y_train_p)\n",
    "\n",
    "# Predict and evaluate the model.\n",
    "y_pred_p = model_dt.predict(X_test_p)\n",
    "print(\"Accuracy:\", accuracy_score(y_test_p, y_pred_p))\n",
    "print(classification_report(y_test_p, y_pred_p))\n"
   ]
  },
  {
   "cell_type": "markdown",
   "metadata": {},
   "source": [
    "The decision tree classifier (model_dt) trained on PURPOSE-based dummy variables achieved high accuracy on the test set. \n",
    "The computed classification report indicated strong performance for the dominant “Business” class.\n",
    "However, performance on the minority “Personal” class was lower in certain aspects due to the imbalanced class distribution."
   ]
  },
  {
   "cell_type": "markdown",
   "metadata": {},
   "source": [
    "# 6. Visualization"
   ]
  },
  {
   "cell_type": "markdown",
   "metadata": {},
   "source": [
    "After conducting the machine learning analysis, we visualize the results using bar graphs to be able to see the differences and make a clear conclusion.  "
   ]
  },
  {
   "cell_type": "markdown",
   "metadata": {},
   "source": [
    "First, make a bar graph to show the results for the accuracy between the Logistic Regression model and the Decision Tree model."
   ]
  },
  {
   "cell_type": "code",
   "execution_count": 52,
   "metadata": {},
   "outputs": [
    {
     "data": {
      "image/png": "[encoded data removed]",
      "text/plain": [
       "<Figure size 640x480 with 1 Axes>"
      ]
     },
     "metadata": {},
     "output_type": "display_data"
    }
   ],
   "source": [
    "import matplotlib.pyplot as plt\n",
    "import numpy as np\n",
    "import seaborn as sns\n",
    "\n",
    "plt.bar(['Logistic Regression', 'Decision Tree'],[.910, .915])\n",
    "plt.title('Logistic Regression VS Decision Tree(Accuracy)')\n",
    "plt.ylabel('Accuracy')\n",
    "plt.ylim(.88, .92)\n",
    "plt.show()"
   ]
  },
  {
   "cell_type": "markdown",
   "metadata": {},
   "source": [
    "Next make a graph that shows the results of the chosen model (Decison Tree due to higher accuracy that can be seen from above). This graph will show the differences between the two categories, business and personal (keep in mind the imbalance in class distribution does have an effect on these results)."
   ]
  },
  {
   "cell_type": "code",
   "execution_count": 53,
   "metadata": {},
   "outputs": [
    {
     "data": {
      "image/png": "[encoded data removed]",
      "text/plain": [
       "<Figure size 640x480 with 1 Axes>"
      ]
     },
     "metadata": {},
     "output_type": "display_data"
    }
   ],
   "source": [
    "categories = ['Business', 'Personal']\n",
    "precision = [.91, 1]\n",
    "recall = [1, .06]\n",
    "f1_score = [.96, .11]\n",
    "\n",
    "idx = np.arange(len(categories))\n",
    "space = .25\n",
    "\n",
    "plt.bar(idx - space, precision, space, label = 'Precision', color = 'red')\n",
    "plt.bar(idx, recall, space, label = 'Recall', color = 'orange')\n",
    "plt.bar(idx + space, f1_score, space, label = 'F1-Score')\n",
    "plt.title('Precision, Recall, and F1-Score by Category (Decision Tree)')\n",
    "plt.xlabel('Category')\n",
    "plt.ylabel('Score')\n",
    "plt.xticks(idx, categories)\n",
    "plt.legend()\n",
    "plt.show()"
   ]
  },
  {
   "cell_type": "markdown",
   "metadata": {},
   "source": [
    "# 7. Insights and Conclusions\n"
   ]
  },
  {
   "cell_type": "markdown",
   "metadata": {},
   "source": [
    "After collecting, cleaning, and analyzing the data, we identified key takeaways and trends through exploratory data analysis (EDA), hypothesis testing, and machine learning techniques.\n",
    "\n",
    "- Based on our Chi-Squared Test, we tested to see if there was an association between CATEGORY and PURPOSE for the Uber rides. We rejected the NULL hypothesis, stating there was an association between CATEGORY and PURPOSE. That means the type of account the user has is related to the purpose of their rides. Understanding this association, whether you are a part of Uber or another customer yourself, clarifies the intent of the users who use the platform. Uber may tailor its services differently based on the association between CATEGORY and PURPOSE. \n",
    "\n",
    "- Based on our One-Sample T-Test, we noticed that trips starting from Cary had the highest number of trips. We wanted to test if there was a significant difference between the average trip miles starting from Cary and the overall average trip miles. Based on our p-value and results, we fail to reject the NULL hypothesis, showing there is no significant difference between average trip miles and starting from Cary. In other words, having a large number of trips starting from Cary does not affect the overall average trip length. The dataset averages are not skewed by including this many trips starting from Cary. Uber would not need to worry about these trips disproportionately affecting the representation of the data. \n",
    "\n",
    "- Based on our ANOVA test, we wanted to see if there was a significant difference in the miles covered between each day of the week. Based on our p-value and findings, we rejected the null hypothesis and found that there is a significant difference between at least one of the days and the miles covered across the week. These results show that factors like the day of the week influence how people use Uber's services. This brings other factors into play, such as the average work schedules of Uber users and how PURPOSE relates to the day of the week. Uber may use this information to promote special deals on days when people tend to travel longer distances.\n",
    "\n",
    "We performed both a linear regression model and a decision tree classifier on the dataset. We observed previously the link between CATEGORY and PURPOSE, which suggests that factors like trip miles, start/end locations, and time details (from START_DATE) might predict whether a ride is personal or business. We tested miles and starting hours for the linear regression model and got high accuracy, indicating those are strong predictors for PURPOSE. When testing the decision tree classifier, we found that it predicted the business accounts well but struggled with the personal accounts by having a low f1-score and recall score. This suggests there is bias in the more dominant account purpose (Business), resulting in poorer performances with predicting personal accounts. Improvements include addressing issues relating to the imbalance between business and personal, tuning the model, or considering other sampling approaches to improve the model's predictive ability, becoming more accurate for both categories. \n",
    "\n",
    "In conclusion, this dataset provides a good representation of both personal and business Uber accounts, showing how different factors may influence various aspects of a trip. However, to improve the dataset for training a machine-learning model to accurately predict the purpose (whether a ride is personal or business), it would be beneficial to include more data from personal accounts. The current imbalance between the two categories makes it difficult to predict accurately. It's important to note the clear trends between the categories, which can offer valuable insights for Uber in refining its approach to improve both user and overall service experience."
   ]
  }
 ],
 "metadata": {
  "kernelspec": {
   "display_name": "base",
   "language": "python",
   "name": "python3"
  },
  "language_info": {
   "codemirror_mode": {
    "name": "ipython",
    "version": 3
   },
   "file_extension": ".py",
   "mimetype": "text/x-python",
   "name": "python",
   "nbconvert_exporter": "python",
   "pygments_lexer": "ipython3",
   "version": "3.12.3"
  }
 },
 "nbformat": 4,
 "nbformat_minor": 2
}
