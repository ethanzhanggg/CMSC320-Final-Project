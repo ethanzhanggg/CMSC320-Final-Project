{
 "cells": [
  {
   "cell_type": "markdown",
   "metadata": {},
   "source": [
    "# Tutorial: Uber Rides Dataset\n"
   ]
  },
  {
   "cell_type": "markdown",
   "metadata": {},
   "source": [
    "## Introduction\n",
    "\n",
    "This tutorial will walk you through the entire data science pipeline using [Uber Rides Data](https://www.kaggle.com/datasets/ruchikakumbhar/uber-dataset). From acquiring and curating raw data to transforming it into a structured, queryable format.\n",
    "\n",
    "We will begin with data cleaning and preprocessing, addressing missing values, correcting data types, and handling outliers to ensure data quality. Next, we'll dive into exploratory data analysis (EDA) to uncover patterns and trends.\n",
    "\n",
    "Hypothesis testing and machine learning techniques will then be applied to extract meaningful insights. Finally, the tutorial will cover how to effectively communicate results using visualizations and clear explanations."
   ]
  },
  {
   "cell_type": "markdown",
   "metadata": {},
   "source": [
    "## Part 1: Data Preprocessing"
   ]
  },
  {
   "cell_type": "markdown",
   "metadata": {},
   "source": [
    "### Step 1: Importing tools"
   ]
  },
  {
   "cell_type": "markdown",
   "metadata": {},
   "source": [
    "In this tutorial, we will use common data analysis tools such as numpy and pandas."
   ]
  },
  {
   "cell_type": "code",
   "execution_count": 1,
   "metadata": {},
   "outputs": [],
   "source": [
    "import numpy as np\n",
    "import pandas as pd"
   ]
  },
  {
   "cell_type": "markdown",
   "metadata": {},
   "source": [
    "### Step 2: Importing the data\n",
    "To start, we need to import the dataset into a pandas dataframe"
   ]
  },
  {
   "cell_type": "code",
   "execution_count": 2,
   "metadata": {},
   "outputs": [
    {
     "data": {
      "text/html": [
       "<div>\n",
       "<style scoped>\n",
       "    .dataframe tbody tr th:only-of-type {\n",
       "        vertical-align: middle;\n",
       "    }\n",
       "\n",
       "    .dataframe tbody tr th {\n",
       "        vertical-align: top;\n",
       "    }\n",
       "\n",
       "    .dataframe thead th {\n",
       "        text-align: right;\n",
       "    }\n",
       "</style>\n",
       "<table border=\"1\" class=\"dataframe\">\n",
       "  <thead>\n",
       "    <tr style=\"text-align: right;\">\n",
       "      <th></th>\n",
       "      <th>START_DATE</th>\n",
       "      <th>END_DATE</th>\n",
       "      <th>CATEGORY</th>\n",
       "      <th>START</th>\n",
       "      <th>STOP</th>\n",
       "      <th>MILES</th>\n",
       "      <th>PURPOSE</th>\n",
       "    </tr>\n",
       "  </thead>\n",
       "  <tbody>\n",
       "    <tr>\n",
       "      <th>0</th>\n",
       "      <td>01-01-2016 21:11</td>\n",
       "      <td>01-01-2016 21:17</td>\n",
       "      <td>Business</td>\n",
       "      <td>Fort Pierce</td>\n",
       "      <td>Fort Pierce</td>\n",
       "      <td>5.1</td>\n",
       "      <td>Meal/Entertain</td>\n",
       "    </tr>\n",
       "    <tr>\n",
       "      <th>1</th>\n",
       "      <td>01-02-2016 01:25</td>\n",
       "      <td>01-02-2016 01:37</td>\n",
       "      <td>Business</td>\n",
       "      <td>Fort Pierce</td>\n",
       "      <td>Fort Pierce</td>\n",
       "      <td>5.0</td>\n",
       "      <td>NaN</td>\n",
       "    </tr>\n",
       "    <tr>\n",
       "      <th>2</th>\n",
       "      <td>01-02-2016 20:25</td>\n",
       "      <td>01-02-2016 20:38</td>\n",
       "      <td>Business</td>\n",
       "      <td>Fort Pierce</td>\n",
       "      <td>Fort Pierce</td>\n",
       "      <td>4.8</td>\n",
       "      <td>Errand/Supplies</td>\n",
       "    </tr>\n",
       "    <tr>\n",
       "      <th>3</th>\n",
       "      <td>01-05-2016 17:31</td>\n",
       "      <td>01-05-2016 17:45</td>\n",
       "      <td>Business</td>\n",
       "      <td>Fort Pierce</td>\n",
       "      <td>Fort Pierce</td>\n",
       "      <td>4.7</td>\n",
       "      <td>Meeting</td>\n",
       "    </tr>\n",
       "    <tr>\n",
       "      <th>4</th>\n",
       "      <td>01-06-2016 14:42</td>\n",
       "      <td>01-06-2016 15:49</td>\n",
       "      <td>Business</td>\n",
       "      <td>Fort Pierce</td>\n",
       "      <td>West Palm Beach</td>\n",
       "      <td>63.7</td>\n",
       "      <td>Customer Visit</td>\n",
       "    </tr>\n",
       "  </tbody>\n",
       "</table>\n",
       "</div>"
      ],
      "text/plain": [
       "         START_DATE          END_DATE  CATEGORY        START             STOP  \\\n",
       "0  01-01-2016 21:11  01-01-2016 21:17  Business  Fort Pierce      Fort Pierce   \n",
       "1  01-02-2016 01:25  01-02-2016 01:37  Business  Fort Pierce      Fort Pierce   \n",
       "2  01-02-2016 20:25  01-02-2016 20:38  Business  Fort Pierce      Fort Pierce   \n",
       "3  01-05-2016 17:31  01-05-2016 17:45  Business  Fort Pierce      Fort Pierce   \n",
       "4  01-06-2016 14:42  01-06-2016 15:49  Business  Fort Pierce  West Palm Beach   \n",
       "\n",
       "   MILES          PURPOSE  \n",
       "0    5.1   Meal/Entertain  \n",
       "1    5.0              NaN  \n",
       "2    4.8  Errand/Supplies  \n",
       "3    4.7          Meeting  \n",
       "4   63.7   Customer Visit  "
      ]
     },
     "metadata": {},
     "output_type": "display_data"
    }
   ],
   "source": [
    "# Read data from the CSV file\n",
    "uber_data = pd.read_csv(\"./UberDataset.csv\") \n",
    "\n",
    "# Display the first five rows\n",
    "display(uber_data.head())\n"
   ]
  },
  {
   "cell_type": "markdown",
   "metadata": {},
   "source": [
    "### Step 3: Parsing Data Types\n",
    "Once data is loaded, we need to ensure that all the columns have the correct data type."
   ]
  },
  {
   "cell_type": "code",
   "execution_count": 3,
   "metadata": {},
   "outputs": [
    {
     "name": "stdout",
     "output_type": "stream",
     "text": [
      "START_DATE     object\n",
      "END_DATE       object\n",
      "CATEGORY       object\n",
      "START          object\n",
      "STOP           object\n",
      "MILES         float64\n",
      "PURPOSE        object\n",
      "dtype: object\n",
      "START_DATE    datetime64[ns]\n",
      "END_DATE      datetime64[ns]\n",
      "CATEGORY              object\n",
      "START                 object\n",
      "STOP                  object\n",
      "MILES                float64\n",
      "PURPOSE               object\n",
      "dtype: object\n"
     ]
    }
   ],
   "source": [
    "# Check data types and notice that START_DATE and END_DATE are both objects and not datetime\n",
    "print(uber_data.dtypes)\n",
    "\n",
    "# Convert START_DATE and END_DATE to datetime variable\n",
    "uber_data['START_DATE'] = pd.to_datetime(uber_data['START_DATE'], format='%m/%d/%Y %H:%M', errors='coerce').fillna(\n",
    "    pd.to_datetime(uber_data['START_DATE'], format='%m-%d-%Y %H:%M', errors='coerce')\n",
    ")\n",
    "\n",
    "uber_data['END_DATE'] = pd.to_datetime(uber_data['END_DATE'], format='%m/%d/%Y %H:%M', errors='coerce').fillna(\n",
    "    pd.to_datetime(uber_data['END_DATE'], format='%m-%d-%Y %H:%M', errors='coerce')\n",
    ")\n",
    "\n",
    "# Check data types again\n",
    "print(uber_data.dtypes)\n"
   ]
  },
  {
   "cell_type": "markdown",
   "metadata": {},
   "source": [
    "### Step 4: Droping Duplicates and Handling Missing Values\n",
    "We now try to remove any duplicates and missing values. "
   ]
  },
  {
   "cell_type": "code",
   "execution_count": 4,
   "metadata": {},
   "outputs": [
    {
     "data": {
      "text/html": [
       "<div>\n",
       "<style scoped>\n",
       "    .dataframe tbody tr th:only-of-type {\n",
       "        vertical-align: middle;\n",
       "    }\n",
       "\n",
       "    .dataframe tbody tr th {\n",
       "        vertical-align: top;\n",
       "    }\n",
       "\n",
       "    .dataframe thead th {\n",
       "        text-align: right;\n",
       "    }\n",
       "</style>\n",
       "<table border=\"1\" class=\"dataframe\">\n",
       "  <thead>\n",
       "    <tr style=\"text-align: right;\">\n",
       "      <th></th>\n",
       "      <th>START_DATE</th>\n",
       "      <th>END_DATE</th>\n",
       "      <th>CATEGORY</th>\n",
       "      <th>START</th>\n",
       "      <th>STOP</th>\n",
       "      <th>MILES</th>\n",
       "      <th>PURPOSE</th>\n",
       "    </tr>\n",
       "  </thead>\n",
       "  <tbody>\n",
       "    <tr>\n",
       "      <th>0</th>\n",
       "      <td>2016-01-01 21:11:00</td>\n",
       "      <td>2016-01-01 21:17:00</td>\n",
       "      <td>Business</td>\n",
       "      <td>Fort Pierce</td>\n",
       "      <td>Fort Pierce</td>\n",
       "      <td>5.1</td>\n",
       "      <td>Meal/Entertain</td>\n",
       "    </tr>\n",
       "    <tr>\n",
       "      <th>1</th>\n",
       "      <td>2016-01-02 01:25:00</td>\n",
       "      <td>2016-01-02 01:37:00</td>\n",
       "      <td>Business</td>\n",
       "      <td>Fort Pierce</td>\n",
       "      <td>Fort Pierce</td>\n",
       "      <td>5.0</td>\n",
       "      <td>NaN</td>\n",
       "    </tr>\n",
       "    <tr>\n",
       "      <th>2</th>\n",
       "      <td>2016-01-02 20:25:00</td>\n",
       "      <td>2016-01-02 20:38:00</td>\n",
       "      <td>Business</td>\n",
       "      <td>Fort Pierce</td>\n",
       "      <td>Fort Pierce</td>\n",
       "      <td>4.8</td>\n",
       "      <td>Errand/Supplies</td>\n",
       "    </tr>\n",
       "    <tr>\n",
       "      <th>3</th>\n",
       "      <td>2016-01-05 17:31:00</td>\n",
       "      <td>2016-01-05 17:45:00</td>\n",
       "      <td>Business</td>\n",
       "      <td>Fort Pierce</td>\n",
       "      <td>Fort Pierce</td>\n",
       "      <td>4.7</td>\n",
       "      <td>Meeting</td>\n",
       "    </tr>\n",
       "    <tr>\n",
       "      <th>4</th>\n",
       "      <td>2016-01-06 14:42:00</td>\n",
       "      <td>2016-01-06 15:49:00</td>\n",
       "      <td>Business</td>\n",
       "      <td>Fort Pierce</td>\n",
       "      <td>West Palm Beach</td>\n",
       "      <td>63.7</td>\n",
       "      <td>Customer Visit</td>\n",
       "    </tr>\n",
       "    <tr>\n",
       "      <th>...</th>\n",
       "      <td>...</td>\n",
       "      <td>...</td>\n",
       "      <td>...</td>\n",
       "      <td>...</td>\n",
       "      <td>...</td>\n",
       "      <td>...</td>\n",
       "      <td>...</td>\n",
       "    </tr>\n",
       "    <tr>\n",
       "      <th>1151</th>\n",
       "      <td>2016-12-31 13:24:00</td>\n",
       "      <td>2016-12-31 13:42:00</td>\n",
       "      <td>Business</td>\n",
       "      <td>Kar?chi</td>\n",
       "      <td>Unknown Location</td>\n",
       "      <td>3.9</td>\n",
       "      <td>Temporary Site</td>\n",
       "    </tr>\n",
       "    <tr>\n",
       "      <th>1152</th>\n",
       "      <td>2016-12-31 15:03:00</td>\n",
       "      <td>2016-12-31 15:38:00</td>\n",
       "      <td>Business</td>\n",
       "      <td>Unknown Location</td>\n",
       "      <td>Unknown Location</td>\n",
       "      <td>16.2</td>\n",
       "      <td>Meeting</td>\n",
       "    </tr>\n",
       "    <tr>\n",
       "      <th>1153</th>\n",
       "      <td>2016-12-31 21:32:00</td>\n",
       "      <td>2016-12-31 21:50:00</td>\n",
       "      <td>Business</td>\n",
       "      <td>Katunayake</td>\n",
       "      <td>Gampaha</td>\n",
       "      <td>6.4</td>\n",
       "      <td>Temporary Site</td>\n",
       "    </tr>\n",
       "    <tr>\n",
       "      <th>1154</th>\n",
       "      <td>2016-12-31 22:08:00</td>\n",
       "      <td>2016-12-31 23:51:00</td>\n",
       "      <td>Business</td>\n",
       "      <td>Gampaha</td>\n",
       "      <td>Ilukwatta</td>\n",
       "      <td>48.2</td>\n",
       "      <td>Temporary Site</td>\n",
       "    </tr>\n",
       "    <tr>\n",
       "      <th>1155</th>\n",
       "      <td>NaT</td>\n",
       "      <td>NaT</td>\n",
       "      <td>NaN</td>\n",
       "      <td>NaN</td>\n",
       "      <td>NaN</td>\n",
       "      <td>12204.7</td>\n",
       "      <td>NaN</td>\n",
       "    </tr>\n",
       "  </tbody>\n",
       "</table>\n",
       "<p>1156 rows × 7 columns</p>\n",
       "</div>"
      ],
      "text/plain": [
       "              START_DATE            END_DATE  CATEGORY             START  \\\n",
       "0    2016-01-01 21:11:00 2016-01-01 21:17:00  Business       Fort Pierce   \n",
       "1    2016-01-02 01:25:00 2016-01-02 01:37:00  Business       Fort Pierce   \n",
       "2    2016-01-02 20:25:00 2016-01-02 20:38:00  Business       Fort Pierce   \n",
       "3    2016-01-05 17:31:00 2016-01-05 17:45:00  Business       Fort Pierce   \n",
       "4    2016-01-06 14:42:00 2016-01-06 15:49:00  Business       Fort Pierce   \n",
       "...                  ...                 ...       ...               ...   \n",
       "1151 2016-12-31 13:24:00 2016-12-31 13:42:00  Business           Kar?chi   \n",
       "1152 2016-12-31 15:03:00 2016-12-31 15:38:00  Business  Unknown Location   \n",
       "1153 2016-12-31 21:32:00 2016-12-31 21:50:00  Business        Katunayake   \n",
       "1154 2016-12-31 22:08:00 2016-12-31 23:51:00  Business           Gampaha   \n",
       "1155                 NaT                 NaT       NaN               NaN   \n",
       "\n",
       "                  STOP    MILES          PURPOSE  \n",
       "0          Fort Pierce      5.1   Meal/Entertain  \n",
       "1          Fort Pierce      5.0              NaN  \n",
       "2          Fort Pierce      4.8  Errand/Supplies  \n",
       "3          Fort Pierce      4.7          Meeting  \n",
       "4      West Palm Beach     63.7   Customer Visit  \n",
       "...                ...      ...              ...  \n",
       "1151  Unknown Location      3.9   Temporary Site  \n",
       "1152  Unknown Location     16.2          Meeting  \n",
       "1153           Gampaha      6.4   Temporary Site  \n",
       "1154         Ilukwatta     48.2   Temporary Site  \n",
       "1155               NaN  12204.7              NaN  \n",
       "\n",
       "[1156 rows x 7 columns]"
      ]
     },
     "metadata": {},
     "output_type": "display_data"
    }
   ],
   "source": [
    "# Display DataFrame\n",
    "display(uber_data)"
   ]
  },
  {
   "cell_type": "markdown",
   "metadata": {},
   "source": [
    "From displaying the dataframe, notice that there are data labeled **Unknown Location** from the columns **START** and **Stop**. \n",
    "\n",
    "Note: About half of the values in the column **PURPOSE** are **NaN** values so we will **NOT** filter those out."
   ]
  },
  {
   "cell_type": "code",
   "execution_count": 5,
   "metadata": {},
   "outputs": [
    {
     "data": {
      "text/html": [
       "<div>\n",
       "<style scoped>\n",
       "    .dataframe tbody tr th:only-of-type {\n",
       "        vertical-align: middle;\n",
       "    }\n",
       "\n",
       "    .dataframe tbody tr th {\n",
       "        vertical-align: top;\n",
       "    }\n",
       "\n",
       "    .dataframe thead th {\n",
       "        text-align: right;\n",
       "    }\n",
       "</style>\n",
       "<table border=\"1\" class=\"dataframe\">\n",
       "  <thead>\n",
       "    <tr style=\"text-align: right;\">\n",
       "      <th></th>\n",
       "      <th>START_DATE</th>\n",
       "      <th>END_DATE</th>\n",
       "      <th>CATEGORY</th>\n",
       "      <th>START</th>\n",
       "      <th>STOP</th>\n",
       "      <th>MILES</th>\n",
       "      <th>PURPOSE</th>\n",
       "    </tr>\n",
       "  </thead>\n",
       "  <tbody>\n",
       "    <tr>\n",
       "      <th>0</th>\n",
       "      <td>2016-01-01 21:11:00</td>\n",
       "      <td>2016-01-01 21:17:00</td>\n",
       "      <td>Business</td>\n",
       "      <td>Fort Pierce</td>\n",
       "      <td>Fort Pierce</td>\n",
       "      <td>5.1</td>\n",
       "      <td>Meal/Entertain</td>\n",
       "    </tr>\n",
       "    <tr>\n",
       "      <th>1</th>\n",
       "      <td>2016-01-02 01:25:00</td>\n",
       "      <td>2016-01-02 01:37:00</td>\n",
       "      <td>Business</td>\n",
       "      <td>Fort Pierce</td>\n",
       "      <td>Fort Pierce</td>\n",
       "      <td>5.0</td>\n",
       "      <td>NaN</td>\n",
       "    </tr>\n",
       "    <tr>\n",
       "      <th>2</th>\n",
       "      <td>2016-01-02 20:25:00</td>\n",
       "      <td>2016-01-02 20:38:00</td>\n",
       "      <td>Business</td>\n",
       "      <td>Fort Pierce</td>\n",
       "      <td>Fort Pierce</td>\n",
       "      <td>4.8</td>\n",
       "      <td>Errand/Supplies</td>\n",
       "    </tr>\n",
       "    <tr>\n",
       "      <th>3</th>\n",
       "      <td>2016-01-05 17:31:00</td>\n",
       "      <td>2016-01-05 17:45:00</td>\n",
       "      <td>Business</td>\n",
       "      <td>Fort Pierce</td>\n",
       "      <td>Fort Pierce</td>\n",
       "      <td>4.7</td>\n",
       "      <td>Meeting</td>\n",
       "    </tr>\n",
       "    <tr>\n",
       "      <th>4</th>\n",
       "      <td>2016-01-06 14:42:00</td>\n",
       "      <td>2016-01-06 15:49:00</td>\n",
       "      <td>Business</td>\n",
       "      <td>Fort Pierce</td>\n",
       "      <td>West Palm Beach</td>\n",
       "      <td>63.7</td>\n",
       "      <td>Customer Visit</td>\n",
       "    </tr>\n",
       "    <tr>\n",
       "      <th>...</th>\n",
       "      <td>...</td>\n",
       "      <td>...</td>\n",
       "      <td>...</td>\n",
       "      <td>...</td>\n",
       "      <td>...</td>\n",
       "      <td>...</td>\n",
       "      <td>...</td>\n",
       "    </tr>\n",
       "    <tr>\n",
       "      <th>1148</th>\n",
       "      <td>2016-12-30 16:45:00</td>\n",
       "      <td>2016-12-30 17:08:00</td>\n",
       "      <td>Business</td>\n",
       "      <td>Kar?chi</td>\n",
       "      <td>Kar?chi</td>\n",
       "      <td>4.6</td>\n",
       "      <td>Meeting</td>\n",
       "    </tr>\n",
       "    <tr>\n",
       "      <th>1149</th>\n",
       "      <td>2016-12-30 23:06:00</td>\n",
       "      <td>2016-12-30 23:10:00</td>\n",
       "      <td>Business</td>\n",
       "      <td>Kar?chi</td>\n",
       "      <td>Kar?chi</td>\n",
       "      <td>0.8</td>\n",
       "      <td>Customer Visit</td>\n",
       "    </tr>\n",
       "    <tr>\n",
       "      <th>1150</th>\n",
       "      <td>2016-12-31 01:07:00</td>\n",
       "      <td>2016-12-31 01:14:00</td>\n",
       "      <td>Business</td>\n",
       "      <td>Kar?chi</td>\n",
       "      <td>Kar?chi</td>\n",
       "      <td>0.7</td>\n",
       "      <td>Meeting</td>\n",
       "    </tr>\n",
       "    <tr>\n",
       "      <th>1153</th>\n",
       "      <td>2016-12-31 21:32:00</td>\n",
       "      <td>2016-12-31 21:50:00</td>\n",
       "      <td>Business</td>\n",
       "      <td>Katunayake</td>\n",
       "      <td>Gampaha</td>\n",
       "      <td>6.4</td>\n",
       "      <td>Temporary Site</td>\n",
       "    </tr>\n",
       "    <tr>\n",
       "      <th>1154</th>\n",
       "      <td>2016-12-31 22:08:00</td>\n",
       "      <td>2016-12-31 23:51:00</td>\n",
       "      <td>Business</td>\n",
       "      <td>Gampaha</td>\n",
       "      <td>Ilukwatta</td>\n",
       "      <td>48.2</td>\n",
       "      <td>Temporary Site</td>\n",
       "    </tr>\n",
       "  </tbody>\n",
       "</table>\n",
       "<p>943 rows × 7 columns</p>\n",
       "</div>"
      ],
      "text/plain": [
       "              START_DATE            END_DATE  CATEGORY        START  \\\n",
       "0    2016-01-01 21:11:00 2016-01-01 21:17:00  Business  Fort Pierce   \n",
       "1    2016-01-02 01:25:00 2016-01-02 01:37:00  Business  Fort Pierce   \n",
       "2    2016-01-02 20:25:00 2016-01-02 20:38:00  Business  Fort Pierce   \n",
       "3    2016-01-05 17:31:00 2016-01-05 17:45:00  Business  Fort Pierce   \n",
       "4    2016-01-06 14:42:00 2016-01-06 15:49:00  Business  Fort Pierce   \n",
       "...                  ...                 ...       ...          ...   \n",
       "1148 2016-12-30 16:45:00 2016-12-30 17:08:00  Business      Kar?chi   \n",
       "1149 2016-12-30 23:06:00 2016-12-30 23:10:00  Business      Kar?chi   \n",
       "1150 2016-12-31 01:07:00 2016-12-31 01:14:00  Business      Kar?chi   \n",
       "1153 2016-12-31 21:32:00 2016-12-31 21:50:00  Business   Katunayake   \n",
       "1154 2016-12-31 22:08:00 2016-12-31 23:51:00  Business      Gampaha   \n",
       "\n",
       "                 STOP  MILES          PURPOSE  \n",
       "0         Fort Pierce    5.1   Meal/Entertain  \n",
       "1         Fort Pierce    5.0              NaN  \n",
       "2         Fort Pierce    4.8  Errand/Supplies  \n",
       "3         Fort Pierce    4.7          Meeting  \n",
       "4     West Palm Beach   63.7   Customer Visit  \n",
       "...               ...    ...              ...  \n",
       "1148          Kar?chi    4.6          Meeting  \n",
       "1149          Kar?chi    0.8   Customer Visit  \n",
       "1150          Kar?chi    0.7          Meeting  \n",
       "1153          Gampaha    6.4   Temporary Site  \n",
       "1154        Ilukwatta   48.2   Temporary Site  \n",
       "\n",
       "[943 rows x 7 columns]"
      ]
     },
     "metadata": {},
     "output_type": "display_data"
    }
   ],
   "source": [
    "# Drop duplicate rows\n",
    "uber_data.drop_duplicates(inplace=True)\n",
    "\n",
    "# Drop rows where START_DATE or END_DATE is NaT\n",
    "uber_data = uber_data[~pd.isna(uber_data[\"START_DATE\"])]\n",
    "uber_data = uber_data[~pd.isna(uber_data[\"END_DATE\"])]\n",
    "\n",
    "# Drop rows where START or STOP location is \"Unknown Location\"\n",
    "uber_data = uber_data[uber_data[\"START\"] != \"Unknown Location\"]\n",
    "uber_data = uber_data[uber_data[\"STOP\"] != \"Unknown Location\"]\n",
    "\n",
    "# Drop rows that contains NaN in any column\"\n",
    "uber_data.dropna(subset=[col for col in uber_data.columns if col != 'PURPOSE'], inplace=True)\n",
    "\n",
    "\n",
    "# Display updated dataframe\n",
    "display(uber_data)"
   ]
  },
  {
   "cell_type": "markdown",
   "metadata": {},
   "source": [
    "## Part 2: Data Exploration"
   ]
  },
  {
   "cell_type": "markdown",
   "metadata": {},
   "source": [
    "### Method 1: Hypothesis Testing with Chi-square Test\n",
    "We use a Chi-square test in order to see if there is an association between the CATEGORY and PURPOSE of the uber rides.\n",
    "\n",
    "H0: There is no association between CATEGORY and PURPOSE for the uber rides.\n",
    "\n",
    "HA: There is an assocaition between CATEGORY and PURPOSE for the uber rides."
   ]
  },
  {
   "cell_type": "code",
   "execution_count": 6,
   "metadata": {},
   "outputs": [
    {
     "name": "stdout",
     "output_type": "stream",
     "text": [
      "PURPOSE   Airport/Travel  Between Offices  Charity ($)  Commute  \\\n",
      "CATEGORY                                                          \n",
      "Business               1               18            0        0   \n",
      "Personal               0                0            1        1   \n",
      "\n",
      "PURPOSE   Customer Visit  Errand/Supplies  Meal/Entertain  Meeting  Moving  \\\n",
      "CATEGORY                                                                     \n",
      "Business              92              111             148      163       0   \n",
      "Personal               0                0               0        0       4   \n",
      "\n",
      "PURPOSE   Temporary Site  \n",
      "CATEGORY                  \n",
      "Business              32  \n",
      "Personal               0  \n",
      "Chi2ContingencyResult(statistic=np.float64(571.0000000000001), pvalue=np.float64(3.4933378081111305e-117), dof=9, expected_freq=array([[9.89492119e-01, 1.78108581e+01, 9.89492119e-01, 9.89492119e-01,\n",
      "        9.10332750e+01, 1.09833625e+02, 1.46444834e+02, 1.61287215e+02,\n",
      "        3.95796848e+00, 3.16637478e+01],\n",
      "       [1.05078809e-02, 1.89141856e-01, 1.05078809e-02, 1.05078809e-02,\n",
      "        9.66725044e-01, 1.16637478e+00, 1.55516637e+00, 1.71278459e+00,\n",
      "        4.20315236e-02, 3.36252189e-01]]))\n"
     ]
    },
    {
     "ename": "ModuleNotFoundError",
     "evalue": "No module named 'seaborn'",
     "output_type": "error",
     "traceback": [
      "\u001b[31m---------------------------------------------------------------------------\u001b[39m",
      "\u001b[31mModuleNotFoundError\u001b[39m                       Traceback (most recent call last)",
      "\u001b[36mCell\u001b[39m\u001b[36m \u001b[39m\u001b[32mIn[6]\u001b[39m\u001b[32m, line 11\u001b[39m\n\u001b[32m      8\u001b[39m chi2 = chi2_contingency(chi_data)\n\u001b[32m      9\u001b[39m \u001b[38;5;28mprint\u001b[39m(chi2)\n\u001b[32m---> \u001b[39m\u001b[32m11\u001b[39m \u001b[38;5;28;01mimport\u001b[39;00m\u001b[38;5;250m \u001b[39m\u001b[34;01mseaborn\u001b[39;00m\u001b[38;5;250m \u001b[39m\u001b[38;5;28;01mas\u001b[39;00m\u001b[38;5;250m \u001b[39m\u001b[34;01msns\u001b[39;00m  \n\u001b[32m     12\u001b[39m \u001b[38;5;28;01mimport\u001b[39;00m\u001b[38;5;250m \u001b[39m\u001b[34;01mmatplotlib\u001b[39;00m\u001b[34;01m.\u001b[39;00m\u001b[34;01mpyplot\u001b[39;00m\u001b[38;5;250m \u001b[39m\u001b[38;5;28;01mas\u001b[39;00m\u001b[38;5;250m \u001b[39m\u001b[34;01mplt\u001b[39;00m\n\u001b[32m     14\u001b[39m \u001b[38;5;66;03m# Create a heatmap to best see the relationship between CATEGORY and PURPOSE.\u001b[39;00m\n",
      "\u001b[31mModuleNotFoundError\u001b[39m: No module named 'seaborn'"
     ]
    }
   ],
   "source": [
    "from scipy.stats import chi2_contingency\n",
    "\n",
    "# Before conducting the chi-squared test, filter the uber_data for only the CATEGORY and PURPOSE tabs\n",
    "chi_data = pd.crosstab(uber_data['CATEGORY'], uber_data['PURPOSE'])\n",
    "print(chi_data)\n",
    "\n",
    "# Conduct the chi-squared test on the filtered data that contains just CATEGORY and PURPOSE\n",
    "chi2 = chi2_contingency(chi_data)\n",
    "print(chi2)\n",
    "\n",
    "import seaborn as sns  \n",
    "import matplotlib.pyplot as plt\n",
    "\n",
    "# Create a heatmap to best see the relationship between CATEGORY and PURPOSE.\n",
    "sns.heatmap(chi_data, annot=True, fmt='d', cmap='Blues')\n",
    "# Name the graph\n",
    "plt.title(\"CATEGORY vs. PURPOSE for uber rides\")\n",
    "plt.show()"
   ]
  },
  {
   "cell_type": "markdown",
   "metadata": {},
   "source": [
    "Based on the p-value above(less than .05), we reject the null hypothesis. Therefore, the conclusion is that there is an association between CATEGORY and PURPOSE.\n",
    "\n",
    "In the context of our dataset, this means that people have an uber personal or business account based on the purposes of their rides. This helps us understand why people choose an uber personal or business account. If you're a business, it could be helpful to analyze this type of data to see how you should advertise your different memborship plans."
   ]
  },
  {
   "cell_type": "code",
   "execution_count": null,
   "metadata": {},
   "outputs": [],
   "source": []
  },
  {
   "cell_type": "markdown",
   "metadata": {},
   "source": [
    "### Method 2: Hypothesis Testing with One-Sample $t$-Test\n",
    "\n",
    "As we can see, trips starting with Cary has the highest number of trips:\n",
    "\n"
   ]
  },
  {
   "cell_type": "code",
   "execution_count": null,
   "metadata": {},
   "outputs": [],
   "source": [
    "print(uber_data['START'].value_counts())"
   ]
  },
  {
   "cell_type": "markdown",
   "metadata": {},
   "source": [
    "\n",
    "In this part, we use a One-Sample $t$-Test to see if the average trip miles starting from Cary differs from the overall average trip miles. We will be using $\\alpha=0.05$ for this hypothesis test.\n",
    "\n",
    "$H_0$: There is no significance difference between the average trip miles starting from Cary and the overall average trip miles.\n",
    "\n",
    "$H_a$: There is significance difference between the average trip miles starting from Cary and the overall average trip miles."
   ]
  },
  {
   "cell_type": "code",
   "execution_count": null,
   "metadata": {},
   "outputs": [],
   "source": [
    "from scipy.stats import ttest_1samp\n",
    "\n",
    "cary_data = uber_data[uber_data['START'] == 'Cary']\n",
    "\n",
    "pop_mean = uber_data['MILES'].mean()\n",
    "\n",
    "t_stat, p_value = ttest_1samp(cary_data['MILES'], pop_mean)\n",
    "\n",
    "print(\"P-value: \", p_value)"
   ]
  },
  {
   "cell_type": "markdown",
   "metadata": {},
   "source": [
    "Based on the $P$-value, we fail to reject the null hypothesis since it's greater than $\\alpha$. Therefore we conclude that there is no significance difference between the average trip miles starting from Cary and the overall average trip miles.\n",
    "\n",
    "Since Cary has the highest number of trips, it could be influencing the overall average trip miles. However, based on the results of the one-sample t-test, there is no significant difference between the average trip miles starting from Cary and the overall average. This suggests that even though Cary has the most number of trips, the average miles of these trips stays consistent with the overall miles, meaning that having more trips from Cary likely wouldn't change the overall average trip miles."
   ]
  },
  {
   "cell_type": "markdown",
   "metadata": {},
   "source": [
    "Now, we make a violin plot for visualizing the distribution of Cary trip miles vs. the overall trip miles:"
   ]
  },
  {
   "cell_type": "code",
   "execution_count": null,
   "metadata": {},
   "outputs": [],
   "source": [
    "cary_miles = cary_data['MILES']\n",
    "overall_miles = uber_data['MILES']\n",
    "\n",
    "plt.figure(figsize=(12, 8),facecolor='#a7a4c5')\n",
    "sns.violinplot(x = ['Cary'] * len(cary_miles) + ['All'] * len(overall_miles),\n",
    "               y = cary_miles.tolist() + overall_miles.tolist(),\n",
    "               hue=['Cary'] * len(cary_miles) + ['All'] * len(overall_miles),\n",
    "               palette={'Cary': '#91d8d7', 'All': '#a1c79d'}, legend=False)\n",
    "\n",
    "plt.title('Cary Trip Miles vs. Overall Trip Miles', fontsize=14, fontweight='bold')\n",
    "plt.grid(True, axis='y', linestyle='--')\n",
    "plt.xticks(fontsize=11, fontweight='bold')\n",
    "\n",
    "plt.xlabel('Start', fontsize=12, fontweight='bold')\n",
    "plt.ylabel('Miles', fontsize=12, fontweight='bold')\n",
    "\n",
    "plt.show()"
   ]
  },
  {
   "cell_type": "markdown",
   "metadata": {},
   "source": [
    "### Method 3: Hypothesis testing with ANOVA test\n",
    "\n",
    "Lastly, we want to see if there is any significant difference between the miles covered between each individual day of the week.\n",
    "\n",
    "We can conduct an ANOVA test, comparing each day's miles covered in a trip. \n",
    "\n",
    "\n",
    "First we can use the datetime function to split the START_DATE columns into integers 0-6. The integers represents Monday-Sunday.\n",
    "\n"
   ]
  },
  {
   "cell_type": "code",
   "execution_count": 12,
   "metadata": {},
   "outputs": [],
   "source": [
    "\n",
    "uber_data['Days'] = uber_data['START_DATE'].dt.weekday"
   ]
  },
  {
   "cell_type": "markdown",
   "metadata": {},
   "source": [
    "We will be using $\\alpha=0.05$ and conducting an ANOVA hypothesis test to see if there is a signficant difference in average miles covered for each day of the week. \n",
    "\n",
    "$H_0$: There is no significance difference between the average trip miles for each day of the week.\n",
    "\n",
    "$H_a$: There is significance difference between the average trip miles for each day of the week."
   ]
  },
  {
   "cell_type": "code",
   "execution_count": 28,
   "metadata": {},
   "outputs": [
    {
     "name": "stdout",
     "output_type": "stream",
     "text": [
      "P-value:  0.02035767353904403\n"
     ]
    }
   ],
   "source": [
    "from scipy.stats import f_oneway\n",
    "\n",
    "miles_by_day = [uber_data[uber_data['Days'] == i]['MILES'] for i in range(7)]\n",
    "\n",
    "f_stat, p_val = f_oneway(*miles_by_day)\n",
    "\n",
    "print(\"P-value: \", p_val)"
   ]
  },
  {
   "cell_type": "markdown",
   "metadata": {},
   "source": [
    "Based on our p-value (0.02), we see that it's less than $\\alpha=0.05$. We reject the NULL hypothesis. This suggests that there is at least one day of the week where the average trip miles are significantly different from the rest of of the days."
   ]
  },
  {
   "cell_type": "markdown",
   "metadata": {},
   "source": [
    "The ANOVA test doesn't tell us which specific days differ. We can conduct a post-hoc Tukey's HSD test to see which days differ from one another\n",
    ". "
   ]
  },
  {
   "cell_type": "code",
   "execution_count": 11,
   "metadata": {},
   "outputs": [
    {
     "name": "stdout",
     "output_type": "stream",
     "text": [
      "Multiple Comparison of Means - Tukey HSD, FWER=0.05 \n",
      "====================================================\n",
      "group1 group2 meandiff p-adj   lower   upper  reject\n",
      "----------------------------------------------------\n",
      "     0      1   -1.253 0.9991 -8.9446  6.4385  False\n",
      "     0      2  -0.5415    1.0 -8.4928  7.4099  False\n",
      "     0      3   3.2285 0.8963 -4.7576 11.2146  False\n",
      "     0      4   5.8573 0.2111 -1.4349 13.1495  False\n",
      "     0      5   4.6733 0.5627 -3.0886 12.4352  False\n",
      "     0      6   4.1747 0.7031 -3.6938 12.0433  False\n",
      "     1      2   0.7116    1.0 -7.1567  8.5798  False\n",
      "     1      3   4.4815 0.6327 -3.4219 12.3849  False\n",
      "     1      4   7.1103 0.0556 -0.0912 14.3118  False\n",
      "     1      5   5.9263 0.2543 -1.7505 13.6031  False\n",
      "     1      6   5.4278 0.3775 -2.3568 13.2124  False\n",
      "     2      3   3.7699   0.82 -4.3865 11.9264  False\n",
      "     2      4   6.3988 0.1504 -1.0795 13.8771  False\n",
      "     2      5   5.2147 0.4534 -2.7223 13.1518  False\n",
      "     2      6   4.7162  0.594 -3.3252 12.7576  False\n",
      "     3      4   2.6288 0.9462 -4.8865 10.1441  False\n",
      "     3      5   1.4448 0.9983 -6.5271  9.4167  False\n",
      "     3      6   0.9463 0.9999 -7.1295   9.022  False\n",
      "     4      5   -1.184 0.9991 -8.4606  6.0926  False\n",
      "     4      6  -1.6826  0.994 -9.0728  5.7077  False\n",
      "     5      6  -0.4985    1.0 -8.3527  7.3556  False\n",
      "----------------------------------------------------\n"
     ]
    }
   ],
   "source": [
    "from statsmodels.stats.multicomp import pairwise_tukeyhsd\n",
    "\n",
    "turkey = pairwise_tukeyhsd(endog=uber_data['MILES'], groups=uber_data['Days'], alpha=0.05)\n",
    "\n",
    "print(turkey.summary())"
   ]
  },
  {
   "cell_type": "markdown",
   "metadata": {},
   "source": [
    "Based on the results of the post-hoc Tukey's HSD test, we can see there isn't any pairwise significant differences between each group. But there is a difference flagged by the ANOVA test when comparing the global difference in the means of the group. "
   ]
  },
  {
   "cell_type": "markdown",
   "metadata": {},
   "source": [
    "Now, we make a box plot for visualizing the distribution of average trip miles vs. each day of the week:"
   ]
  },
  {
   "cell_type": "code",
   "execution_count": 31,
   "metadata": {},
   "outputs": [
    {
     "name": "stderr",
     "output_type": "stream",
     "text": [
      "C:\\Users\\hteda\\AppData\\Local\\Temp\\ipykernel_33144\\3317790458.py:10: MatplotlibDeprecationWarning: The 'labels' parameter of boxplot() has been renamed 'tick_labels' since Matplotlib 3.9; support for the old name will be dropped in 3.11.\n",
      "  plt.boxplot(data_by_day, labels=days, patch_artist=True, boxprops=dict(facecolor=\"skyblue\", color=\"black\"))\n"
     ]
    },
    {
     "data": {
      "image/png": "[encoded data removed]",
      "text/plain": [
       "<Figure size 1000x600 with 1 Axes>"
      ]
     },
     "metadata": {},
     "output_type": "display_data"
    }
   ],
   "source": [
    "import matplotlib.pyplot as plt\n",
    "\n",
    "days = ['Monday', 'Tuesday', 'Wednesday', 'Thursday', 'Friday', 'Saturday', 'Sunday']\n",
    "\n",
    "uber_data['Day_Name'] = uber_data['Days'].apply(lambda x: days[x])\n",
    "\n",
    "data_by_day = [uber_data[uber_data['Day_Name'] == day]['MILES'] for day in days]\n",
    "\n",
    "plt.figure(figsize=(10, 6))\n",
    "plt.boxplot(data_by_day, labels=days, patch_artist=True, boxprops=dict(facecolor=\"skyblue\", color=\"black\"))\n",
    "\n",
    "plt.title(\"Box Plot of average MILES by Days of The Week\") \n",
    "plt.xlabel(\"Days of the Week\")\n",
    "plt.ylabel(\"Trip Miles Average\")  \n",
    "plt.ylim(0, 200)\n",
    "plt.show()"
   ]
  },
  {
   "cell_type": "markdown",
   "metadata": {},
   "source": [
    "Based on the results of this graph and in the context of our dataset. The median line, IQR and and whiskers of the boxplot for each day is roughly around the same range. In this context, that means that there isn't a single day of the week where there are a significantly different average trip miles from one another. You can also notice that later days in the week (Thursday - Sunday) have more significant outliers in trip miles, but do not change the overall pattern of the average."
   ]
  }
 ],
 "metadata": {
  "kernelspec": {
   "display_name": ".venv",
   "language": "python",
   "name": "python3"
  },
  "language_info": {
   "codemirror_mode": {
    "name": "ipython",
    "version": 3
   },
   "file_extension": ".py",
   "mimetype": "text/x-python",
   "name": "python",
   "nbconvert_exporter": "python",
   "pygments_lexer": "ipython3",
   "version": "3.13.2"
  }
 },
 "nbformat": 4,
 "nbformat_minor": 2
}
